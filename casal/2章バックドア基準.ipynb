{
 "cells": [
  {
   "cell_type": "markdown",
   "id": "631ab8e6-3726-4191-8d97-b1a2a00561d9",
   "metadata": {},
   "source": [
    "### memo\n",
    "- Ylearnのモジュールにはバグがあるのでそのままではインストールできない。mainブランチは修正されているので、mainブランチをcloneして、pip install .する。"
   ]
  },
  {
   "cell_type": "code",
   "execution_count": 1,
   "id": "e90cebf1-3e84-41f2-8c3b-129edf964e8c",
   "metadata": {},
   "outputs": [],
   "source": [
    "from ylearn.causal_model.graph import CausalGraph"
   ]
  },
  {
   "cell_type": "code",
   "execution_count": 2,
   "id": "620cd1fc-dcb3-47df-ab34-23754d5cb1da",
   "metadata": {},
   "outputs": [],
   "source": [
    "from ylearn.causal_model.model import CausalModel"
   ]
  },
  {
   "cell_type": "code",
   "execution_count": 3,
   "id": "4b45967b-531b-4ce7-aec5-13acee19ebd6",
   "metadata": {},
   "outputs": [],
   "source": [
    "causation = {  'X1': [],  'X2': [],  'X3': ['X1'],  'X4': ['X1', 'X2'],  'X5': ['X2'],  'X6': ['X', 'X1', 'X2'],  'X': ['X3', 'X4', 'X5'],  'Y': ['X', 'X3', 'X4', 'X5', 'X6'],  } "
   ]
  },
  {
   "cell_type": "code",
   "execution_count": 4,
   "id": "701f4a2e-1db9-46fc-a709-84e6261b7d4f",
   "metadata": {},
   "outputs": [],
   "source": [
    "cg = CausalGraph(causation=causation)  \n",
    "cm = CausalModel(causal_graph=cg)  \n",
    "backdoor_set, prob = cm.identify(treatment={'X'}, outcome={'Y'}, identify_method=('backdoor', 'simple'))['backdoor']  "
   ]
  },
  {
   "cell_type": "code",
   "execution_count": 5,
   "id": "a79b8574-63c1-4655-9bfd-43dd33ad05cb",
   "metadata": {},
   "outputs": [
    {
     "name": "stdout",
     "output_type": "stream",
     "text": [
      "['X3', 'X4', 'X5']\n"
     ]
    }
   ],
   "source": [
    "print(backdoor_set) "
   ]
  },
  {
   "cell_type": "code",
   "execution_count": null,
   "id": "9f111719-9aa3-4278-9589-8c04dead0b79",
   "metadata": {},
   "outputs": [],
   "source": []
  }
 ],
 "metadata": {
  "kernelspec": {
   "display_name": "Python 3 (ipykernel)",
   "language": "python",
   "name": "python3"
  },
  "language_info": {
   "codemirror_mode": {
    "name": "ipython",
    "version": 3
   },
   "file_extension": ".py",
   "mimetype": "text/x-python",
   "name": "python",
   "nbconvert_exporter": "python",
   "pygments_lexer": "ipython3",
   "version": "3.8.16"
  }
 },
 "nbformat": 4,
 "nbformat_minor": 5
}
